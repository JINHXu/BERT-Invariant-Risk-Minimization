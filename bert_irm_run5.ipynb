{
  "nbformat": 4,
  "nbformat_minor": 0,
  "metadata": {
    "colab": {
      "provenance": [],
      "gpuType": "T4",
      "toc_visible": true
    },
    "kernelspec": {
      "name": "python3",
      "display_name": "Python 3"
    },
    "language_info": {
      "name": "python"
    },
    "accelerator": "GPU"
  },
  "cells": [
    {
      "cell_type": "markdown",
      "source": [
        "## IRM\n",
        "\n"
      ],
      "metadata": {
        "id": "TLA43tDdwXGS"
      }
    },
    {
      "cell_type": "code",
      "source": [
        "# import shutil\n",
        "# shutil.rmtree('models')"
      ],
      "metadata": {
        "id": "UxdpIrwzwXGc"
      },
      "execution_count": 1,
      "outputs": []
    },
    {
      "cell_type": "code",
      "source": [
        "! python main.py run-irm --out-dir models/main_exp/irm/run0 --bs-train 32 --bs-val 32 --eval-every-x-epoch 0.2 --warm-up-epochs 1 --epochs 4 --warm-up-reg 1 --reg 7500 --lr 5e-5  --early-stopping 5 --seed 666 --gradient-checkpoint"
      ],
      "metadata": {
        "colab": {
          "base_uri": "https://localhost:8080/"
        },
        "outputId": "67fbe66d-e7e3-43e9-dc72-a3e1e4099271",
        "id": "Dq0tk_YywXGc"
      },
      "execution_count": null,
      "outputs": [
        {
          "output_type": "stream",
          "name": "stdout",
          "text": [
            "2023-12-26 23:32:57.142492: E external/local_xla/xla/stream_executor/cuda/cuda_dnn.cc:9261] Unable to register cuDNN factory: Attempting to register factory for plugin cuDNN when one has already been registered\n",
            "2023-12-26 23:32:57.142556: E external/local_xla/xla/stream_executor/cuda/cuda_fft.cc:607] Unable to register cuFFT factory: Attempting to register factory for plugin cuFFT when one has already been registered\n",
            "2023-12-26 23:32:57.145291: E external/local_xla/xla/stream_executor/cuda/cuda_blas.cc:1515] Unable to register cuBLAS factory: Attempting to register factory for plugin cuBLAS when one has already been registered\n",
            "2023-12-26 23:32:59.023669: W tensorflow/compiler/tf2tensorrt/utils/py_utils.cc:38] TF-TRT Warning: Could not find TensorRT\n",
            "*** Starting run_irm with config:\n",
            "Namespace(out_dir='models/main_exp/irm/run0', num_labels=2, pretrained_model='bert-base-cased', seed=666, bs_train=32, bs_val=32, train_size=None, val_size=None, eval_every_x_epoch=0.2, epochs=4, warm_up_epochs=1, early_stopping=5, reg=7500.0, warm_up_reg=1.0, gradient_checkpoint=True, optimizer_type='Adam', lr=5e-05, momentum=0.9, beta1=0.9, beta2=0.999, epsilon=1e-06, weight_decay=0.01, amsgrad=False, lr_scheduling=False, lr_scheduling_rate=0.1)\n",
            "tokenizer_config.json: 100% 29.0/29.0 [00:00<00:00, 127kB/s]\n",
            "vocab.txt: 100% 213k/213k [00:00<00:00, 5.32MB/s]\n",
            "tokenizer.json: 100% 436k/436k [00:00<00:00, 20.4MB/s]\n",
            "config.json: 100% 570/570 [00:00<00:00, 2.60MB/s]\n",
            "model.safetensors: 100% 436M/436M [00:04<00:00, 103MB/s]\n",
            "Some weights of BertForSequenceClassification were not initialized from the model checkpoint at bert-base-cased and are newly initialized: ['classifier.bias', 'classifier.weight']\n",
            "You should probably TRAIN this model on a down-stream task to be able to use it for predictions and inference.\n",
            "Random seed is used\n",
            "Dropped 0 samples\n",
            "\n",
            "Random seed is used\n",
            "Dropped 0 samples\n",
            "\n",
            "Random seed is used\n",
            "Dropped 0 samples\n",
            "\n",
            "Random seed is used\n",
            "Dropped 0 samples\n",
            "\n",
            "Random seed is used\n",
            "Dropped 0 samples\n",
            "\n",
            "--- STEP 1/25 ---\n",
            "train_batch:   0% 0/4 [00:00<?, ?it/s]/usr/local/lib/python3.10/dist-packages/torch/utils/checkpoint.py:429: UserWarning: torch.utils.checkpoint: please pass in use_reentrant=True or use_reentrant=False explicitly. The default value of use_reentrant will be updated to be False in the future. To maintain current behavior, pass use_reentrant=True. It is recommended that you use use_reentrant=False. Refer to docs for more details on the differences between the two variants.\n",
            "  warnings.warn(\n",
            "train_batch (1.665):  25% 1/4 [01:07<03:21, 67.05s/it]/usr/local/lib/python3.10/dist-packages/torch/utils/checkpoint.py:429: UserWarning: torch.utils.checkpoint: please pass in use_reentrant=True or use_reentrant=False explicitly. The default value of use_reentrant will be updated to be False in the future. To maintain current behavior, pass use_reentrant=True. It is recommended that you use use_reentrant=False. Refer to docs for more details on the differences between the two variants.\n",
            "  warnings.warn(\n",
            "train_batch (1.352):  50% 2/4 [02:05<02:03, 61.96s/it]/usr/local/lib/python3.10/dist-packages/torch/utils/checkpoint.py:429: UserWarning: torch.utils.checkpoint: please pass in use_reentrant=True or use_reentrant=False explicitly. The default value of use_reentrant will be updated to be False in the future. To maintain current behavior, pass use_reentrant=True. It is recommended that you use use_reentrant=False. Refer to docs for more details on the differences between the two variants.\n",
            "  warnings.warn(\n",
            "train_batch (1.434):  75% 3/4 [03:18<01:07, 67.03s/it]/usr/local/lib/python3.10/dist-packages/torch/utils/checkpoint.py:429: UserWarning: torch.utils.checkpoint: please pass in use_reentrant=True or use_reentrant=False explicitly. The default value of use_reentrant will be updated to be False in the future. To maintain current behavior, pass use_reentrant=True. It is recommended that you use use_reentrant=False. Refer to docs for more details on the differences between the two variants.\n",
            "  warnings.warn(\n",
            "train_batch (Avg. Loss 0.732, Accuracy 50.8): 100% 4/4 [04:41<00:00, 70.41s/it]\n"
          ]
        }
      ]
    },
    {
      "cell_type": "markdown",
      "source": [
        "### test ood"
      ],
      "metadata": {
        "id": "BwZmLMYewXGd"
      }
    },
    {
      "cell_type": "code",
      "source": [
        "! python main.py test-irm /content/test_ood.txt /content/models/main_exp/irm/run0 --out-dir models/main_exp/irm/run0/test_ood --reg 7500"
      ],
      "metadata": {
        "id": "GrXeF-0owXGd"
      },
      "execution_count": null,
      "outputs": []
    },
    {
      "cell_type": "code",
      "source": [
        "! cat models/main_exp/irm/run0/test_ood/run_output.json"
      ],
      "metadata": {
        "id": "T-BCZDX1wXGd"
      },
      "execution_count": null,
      "outputs": []
    },
    {
      "cell_type": "markdown",
      "source": [
        "### $e_1$ (davidson test)"
      ],
      "metadata": {
        "id": "cg9nyGAFwXGd"
      }
    },
    {
      "cell_type": "code",
      "source": [
        "! python main.py test-irm /content/davidson_test.txt /content/models/main_exp/irm/run0 --out-dir models/main_exp/irm/run0/test_e1 --reg 7500"
      ],
      "metadata": {
        "id": "g51gDtHIwXGd"
      },
      "execution_count": null,
      "outputs": []
    },
    {
      "cell_type": "code",
      "source": [
        "! cat models/main_exp/irm/run0/test_e1/run_output.json"
      ],
      "metadata": {
        "id": "sNxDpLwTwXGd"
      },
      "execution_count": null,
      "outputs": []
    },
    {
      "cell_type": "markdown",
      "source": [
        "### $e_2$ (ETHOS test)"
      ],
      "metadata": {
        "id": "a0Cl74t-wXGd"
      }
    },
    {
      "cell_type": "code",
      "source": [
        "! python main.py test-irm /content/ethos_test.txt /content/models/main_exp/irm/run0 --out-dir models/main_exp/irm/run0/test_e2 --reg 7500"
      ],
      "metadata": {
        "id": "lzsRtH7UwXGe"
      },
      "execution_count": null,
      "outputs": []
    },
    {
      "cell_type": "code",
      "source": [
        "! cat models/main_exp/irm/run0/test_e2/run_output.json"
      ],
      "metadata": {
        "id": "X4e6Ye7QwXGf"
      },
      "execution_count": null,
      "outputs": []
    },
    {
      "cell_type": "markdown",
      "source": [
        "### $e_1+e_2$"
      ],
      "metadata": {
        "id": "dxAtdfCHwXGf"
      }
    },
    {
      "cell_type": "code",
      "source": [
        "! python main.py test-irm /content/test_e1_e2.txt /content/models/main_exp/irm/run0 --out-dir models/main_exp/irm/run0/test_e1_e2 --reg 7500"
      ],
      "metadata": {
        "id": "PW6GJIhrwXGf"
      },
      "execution_count": null,
      "outputs": []
    },
    {
      "cell_type": "code",
      "source": [
        "! cat models/main_exp/irm/run0/test_e1_e2/run_output.json"
      ],
      "metadata": {
        "id": "-BWWo1y3wXGf"
      },
      "execution_count": null,
      "outputs": []
    },
    {
      "cell_type": "markdown",
      "source": [
        "## ERM\n"
      ],
      "metadata": {
        "id": "rzIb8zrZwXGf"
      }
    },
    {
      "cell_type": "code",
      "source": [
        "! python main.py run-irm --out-dir models/main_exp/erm/run0 --bs-train 32 --bs-val 32 --eval-every-x-epoch 0.2 --warm-up-epochs 4 --epochs 0 --warm-up-reg 0.0 --reg 0.0 --lr 5e-5  --early-stopping 5 --seed 666 --gradient-checkpoint"
      ],
      "metadata": {
        "id": "Gm9jZjaYwXGg"
      },
      "execution_count": null,
      "outputs": []
    },
    {
      "cell_type": "markdown",
      "source": [
        "### test ood"
      ],
      "metadata": {
        "id": "XNZagst0wXGg"
      }
    },
    {
      "cell_type": "code",
      "source": [
        "! python main.py test-irm /content/test_ood.txt /content/models/main_exp/erm/run0 --out-dir models/main_exp/erm/run0/test_ood"
      ],
      "metadata": {
        "id": "2jYVQxSLwXGg"
      },
      "execution_count": null,
      "outputs": []
    },
    {
      "cell_type": "code",
      "source": [
        "! cat models/main_exp/erm/run0/test_ood/run_output.json"
      ],
      "metadata": {
        "id": "pheq1VtOwXGg"
      },
      "execution_count": null,
      "outputs": []
    },
    {
      "cell_type": "markdown",
      "source": [
        "### $e_1$ (davidson test)"
      ],
      "metadata": {
        "id": "vlSXRlBLwXGg"
      }
    },
    {
      "cell_type": "code",
      "source": [
        "! python main.py test-irm /content/davidson_test.txt /content/models/main_exp/erm/run0 --out-dir models/main_exp/erm/run0/davidson_test"
      ],
      "metadata": {
        "id": "Jck2hez7wXGg"
      },
      "execution_count": null,
      "outputs": []
    },
    {
      "cell_type": "code",
      "source": [
        "! cat models/main_exp/erm/run0/davidson_test/run_output.json"
      ],
      "metadata": {
        "id": "mO-65cmDwXGh"
      },
      "execution_count": null,
      "outputs": []
    },
    {
      "cell_type": "markdown",
      "source": [
        "### $e_2$ (ETHOS test)"
      ],
      "metadata": {
        "id": "5r9vJ5TgwXGi"
      }
    },
    {
      "cell_type": "code",
      "source": [
        "! python main.py test-irm /content/ethos_test.txt /content/models/main_exp/erm/run0 --out-dir models/main_exp/erm/run0/ethos_test"
      ],
      "metadata": {
        "id": "_Awb3HcuwXGi"
      },
      "execution_count": null,
      "outputs": []
    },
    {
      "cell_type": "code",
      "source": [
        "! cat models/main_exp/erm/run0/ethos_test/run_output.json"
      ],
      "metadata": {
        "id": "bnuJ4wZCwXGj"
      },
      "execution_count": null,
      "outputs": []
    },
    {
      "cell_type": "markdown",
      "source": [
        "### $e_1 + e_2$"
      ],
      "metadata": {
        "id": "qG0x_AOrwXGj"
      }
    },
    {
      "cell_type": "code",
      "source": [
        "! python main.py test-irm /content/test_e1_e2.txt /content/models/main_exp/erm/run0 --out-dir models/main_exp/erm/run0/test_e1_e2"
      ],
      "metadata": {
        "id": "f2anJGN7wXGj"
      },
      "execution_count": null,
      "outputs": []
    },
    {
      "cell_type": "code",
      "source": [
        "! cat models/main_exp/erm/run0/test_e1_e2/run_output.json"
      ],
      "metadata": {
        "id": "9Z3ATOxvwXGj"
      },
      "execution_count": null,
      "outputs": []
    },
    {
      "cell_type": "markdown",
      "source": [
        "## IRM\n",
        "\n"
      ],
      "metadata": {
        "id": "2CuvbZhHzKtb"
      }
    },
    {
      "cell_type": "code",
      "source": [
        "# import shutil\n",
        "# shutil.rmtree('models')"
      ],
      "metadata": {
        "id": "_mQ3QEOPtidx"
      },
      "execution_count": null,
      "outputs": []
    },
    {
      "cell_type": "code",
      "source": [
        "! python main.py run-irm --out-dir models/main_exp/irm/run0 --bs-train 32 --bs-val 32 --eval-every-x-epoch 0.2 --warm-up-epochs 1 --epochs 4 --warm-up-reg 1 --reg 7500 --lr 5e-5  --early-stopping 5 --seed 6 --gradient-checkpoint"
      ],
      "metadata": {
        "id": "HdaGQ-6VYrq3"
      },
      "execution_count": null,
      "outputs": []
    },
    {
      "cell_type": "markdown",
      "source": [
        "### test ood"
      ],
      "metadata": {
        "id": "w3SAuj6Sb2EB"
      }
    },
    {
      "cell_type": "code",
      "source": [
        "! python main.py test-irm /content/test_ood.txt /content/models/main_exp/irm/run0 --out-dir models/main_exp/irm/run0/test_ood --reg 7500"
      ],
      "metadata": {
        "id": "US2ocUdDbxch"
      },
      "execution_count": null,
      "outputs": []
    },
    {
      "cell_type": "code",
      "source": [
        "! cat models/main_exp/irm/run0/test_ood/run_output.json"
      ],
      "metadata": {
        "id": "FDRaasxVc3ia"
      },
      "execution_count": null,
      "outputs": []
    },
    {
      "cell_type": "markdown",
      "source": [
        "### $e_1$ (davidson test)"
      ],
      "metadata": {
        "id": "6ecw0EdtdNvM"
      }
    },
    {
      "cell_type": "code",
      "source": [
        "! python main.py test-irm /content/davidson_test.txt /content/models/main_exp/irm/run0 --out-dir models/main_exp/irm/run0/test_e1 --reg 7500"
      ],
      "metadata": {
        "id": "rW-_tWvNcnxY"
      },
      "execution_count": null,
      "outputs": []
    },
    {
      "cell_type": "code",
      "source": [
        "! cat models/main_exp/irm/run0/test_e1/run_output.json"
      ],
      "metadata": {
        "id": "sCXOyZy8fuiy"
      },
      "execution_count": null,
      "outputs": []
    },
    {
      "cell_type": "markdown",
      "source": [
        "### $e_2$ (ETHOS test)"
      ],
      "metadata": {
        "id": "xuFs_4HledsT"
      }
    },
    {
      "cell_type": "code",
      "source": [
        "! python main.py test-irm /content/ethos_test.txt /content/models/main_exp/irm/run0 --out-dir models/main_exp/irm/run0/test_e2 --reg 7500"
      ],
      "metadata": {
        "id": "fL4gh45lenxm"
      },
      "execution_count": null,
      "outputs": []
    },
    {
      "cell_type": "code",
      "source": [
        "! cat models/main_exp/irm/run0/test_e2/run_output.json"
      ],
      "metadata": {
        "id": "i3Ipr2YbfxzK"
      },
      "execution_count": null,
      "outputs": []
    },
    {
      "cell_type": "markdown",
      "source": [
        "### $e_1+e_2$"
      ],
      "metadata": {
        "id": "ggh8mRP0gKlp"
      }
    },
    {
      "cell_type": "code",
      "source": [
        "! python main.py test-irm /content/test_e1_e2.txt /content/models/main_exp/irm/run0 --out-dir models/main_exp/irm/run0/test_e1_e2 --reg 7500"
      ],
      "metadata": {
        "id": "LD2u2OHeggR1"
      },
      "execution_count": null,
      "outputs": []
    },
    {
      "cell_type": "code",
      "source": [
        "! cat models/main_exp/irm/run0/test_e1_e2/run_output.json"
      ],
      "metadata": {
        "id": "o4FCWEzegunl"
      },
      "execution_count": null,
      "outputs": []
    },
    {
      "cell_type": "markdown",
      "source": [
        "## ERM\n"
      ],
      "metadata": {
        "id": "DSmDvGhkzNRW"
      }
    },
    {
      "cell_type": "code",
      "source": [
        "! python main.py run-irm --out-dir models/main_exp/erm/run0 --bs-train 32 --bs-val 32 --eval-every-x-epoch 0.2 --warm-up-epochs 4 --epochs 0 --warm-up-reg 0.0 --reg 0.0 --lr 5e-5  --early-stopping 5 --seed 6 --gradient-checkpoint"
      ],
      "metadata": {
        "id": "pxadovN7bWDR"
      },
      "execution_count": null,
      "outputs": []
    },
    {
      "cell_type": "markdown",
      "source": [
        "### test ood"
      ],
      "metadata": {
        "id": "x3CfkuOZjN1Q"
      }
    },
    {
      "cell_type": "code",
      "source": [
        "! python main.py test-irm /content/test_ood.txt /content/models/main_exp/erm/run0 --out-dir models/main_exp/erm/run0/test_ood"
      ],
      "metadata": {
        "id": "GISQZEXK8gF3"
      },
      "execution_count": null,
      "outputs": []
    },
    {
      "cell_type": "code",
      "source": [
        "! cat models/main_exp/erm/run0/test_ood/run_output.json"
      ],
      "metadata": {
        "id": "S7imPNH3i6HE"
      },
      "execution_count": null,
      "outputs": []
    },
    {
      "cell_type": "markdown",
      "source": [
        "### $e_1$ (davidson test)"
      ],
      "metadata": {
        "id": "j11vNPqCjhqO"
      }
    },
    {
      "cell_type": "code",
      "source": [
        "! python main.py test-irm /content/davidson_test.txt /content/models/main_exp/erm/run0 --out-dir models/main_exp/erm/run0/davidson_test"
      ],
      "metadata": {
        "id": "g_9khHBYjlpG"
      },
      "execution_count": null,
      "outputs": []
    },
    {
      "cell_type": "code",
      "source": [
        "! cat models/main_exp/erm/run0/davidson_test/run_output.json"
      ],
      "metadata": {
        "id": "s_DZRSr4j1KY"
      },
      "execution_count": null,
      "outputs": []
    },
    {
      "cell_type": "markdown",
      "source": [
        "### $e_2$ (ETHOS test)"
      ],
      "metadata": {
        "id": "tOYNPQLlj4ja"
      }
    },
    {
      "cell_type": "code",
      "source": [
        "! python main.py test-irm /content/ethos_test.txt /content/models/main_exp/erm/run0 --out-dir models/main_exp/erm/run0/ethos_test"
      ],
      "metadata": {
        "id": "s32OvjuPj8GI"
      },
      "execution_count": null,
      "outputs": []
    },
    {
      "cell_type": "code",
      "source": [
        "! cat models/main_exp/erm/run0/ethos_test/run_output.json"
      ],
      "metadata": {
        "id": "91nzjBmNkVwS"
      },
      "execution_count": null,
      "outputs": []
    },
    {
      "cell_type": "markdown",
      "source": [
        "### $e_1 + e_2$"
      ],
      "metadata": {
        "id": "BI2agDAkkSag"
      }
    },
    {
      "cell_type": "code",
      "source": [
        "! python main.py test-irm /content/test_e1_e2.txt /content/models/main_exp/erm/run0 --out-dir models/main_exp/erm/run0/test_e1_e2"
      ],
      "metadata": {
        "id": "Kv3xo-4xkfn4"
      },
      "execution_count": null,
      "outputs": []
    },
    {
      "cell_type": "code",
      "source": [
        "! cat models/main_exp/erm/run0/test_e1_e2/run_output.json"
      ],
      "metadata": {
        "id": "TXazaK44k2fQ"
      },
      "execution_count": null,
      "outputs": []
    }
  ]
}