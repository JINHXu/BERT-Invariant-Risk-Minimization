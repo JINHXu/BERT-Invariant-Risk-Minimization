{
  "nbformat": 4,
  "nbformat_minor": 0,
  "metadata": {
    "colab": {
      "provenance": [],
      "gpuType": "T4",
      "toc_visible": true
    },
    "kernelspec": {
      "name": "python3",
      "display_name": "Python 3"
    },
    "language_info": {
      "name": "python"
    },
    "accelerator": "GPU"
  },
  "cells": [
    {
      "cell_type": "markdown",
      "source": [
        "## IRM\n",
        "\n"
      ],
      "metadata": {
        "id": "2CuvbZhHzKtb"
      }
    },
    {
      "cell_type": "code",
      "source": [
        "! python main.py run-irm --out-dir models/main_exp/irm/run0 --bs-train 32 --bs-val 32 --eval-every-x-epoch 0.2 --warm-up-epochs 1 --epochs 4 --warm-up-reg 1 --reg 7500 --lr 5e-5  --early-stopping 5 --seed 671362882 --gradient-checkpoint"
      ],
      "metadata": {
        "id": "HdaGQ-6VYrq3"
      },
      "execution_count": null,
      "outputs": []
    },
    {
      "cell_type": "markdown",
      "source": [
        "### test ood"
      ],
      "metadata": {
        "id": "w3SAuj6Sb2EB"
      }
    },
    {
      "cell_type": "code",
      "source": [
        "! python main.py test-irm /content/test_ood.txt /content/models/main_exp/irm/run0 --out-dir models/main_exp/irm/run0/test_ood --reg 7500"
      ],
      "metadata": {
        "colab": {
          "base_uri": "https://localhost:8080/"
        },
        "id": "US2ocUdDbxch",
        "outputId": "91cf173c-2cf2-40eb-a843-b7dc1ce4554b"
      },
      "execution_count": null,
      "outputs": [
        {
          "output_type": "stream",
          "name": "stdout",
          "text": [
            "2023-12-26 00:53:28.794353: E external/local_xla/xla/stream_executor/cuda/cuda_dnn.cc:9261] Unable to register cuDNN factory: Attempting to register factory for plugin cuDNN when one has already been registered\n",
            "2023-12-26 00:53:28.794409: E external/local_xla/xla/stream_executor/cuda/cuda_fft.cc:607] Unable to register cuFFT factory: Attempting to register factory for plugin cuFFT when one has already been registered\n",
            "2023-12-26 00:53:28.795783: E external/local_xla/xla/stream_executor/cuda/cuda_blas.cc:1515] Unable to register cuBLAS factory: Attempting to register factory for plugin cuBLAS when one has already been registered\n",
            "2023-12-26 00:53:29.837914: W tensorflow/compiler/tf2tensorrt/utils/py_utils.cc:38] TF-TRT Warning: Could not find TensorRT\n",
            "*** Starting test_irm with config:\n",
            "Namespace(test_file='/content/test_ood.txt', test_dir='/content/models/main_exp/irm/run0', out_dir='models/main_exp/irm/run0/test_ood', seed=None, bs_test=32, reg=7500.0)\n",
            "Random seed is used\n",
            "Dropped 0 samples\n",
            "\n",
            "Macro F1 score: 0.6298449612403101\n",
            "              precision    recall  f1-score   support\n",
            "\n",
            "           0       0.67      0.88      0.76       111\n",
            "           1       0.70      0.39      0.50        80\n",
            "\n",
            "    accuracy                           0.68       191\n",
            "   macro avg       0.69      0.64      0.63       191\n",
            "weighted avg       0.68      0.68      0.65       191\n",
            "\n",
            "*** Output file models/main_exp/irm/run0/test_ood/run_output.json written\n"
          ]
        }
      ]
    },
    {
      "cell_type": "code",
      "source": [
        "! cat models/main_exp/irm/run0/test_ood/run_output.json"
      ],
      "metadata": {
        "colab": {
          "base_uri": "https://localhost:8080/"
        },
        "id": "FDRaasxVc3ia",
        "outputId": "ce24cab5-85be-4a85-81f1-69f401166607"
      },
      "execution_count": null,
      "outputs": [
        {
          "output_type": "stream",
          "name": "stdout",
          "text": [
            "{\n",
            "  \"config\": {\n",
            "    \"test_file\": \"/content/test_ood.txt\",\n",
            "    \"test_dir\": \"/content/models/main_exp/irm/run0\",\n",
            "    \"out_dir\": \"models/main_exp/irm/run0/test_ood\",\n",
            "    \"seed\": 128565746,\n",
            "    \"reg\": 7500.0,\n",
            "    \"bs_test\": 32\n",
            "  },\n",
            "  \"results\": {\n",
            "    \"loss\": 0.026225045323371887,\n",
            "    \"accuracy\": 67.69153225806451,\n",
            "    \"predicted probabilities\": null\n",
            "  }\n",
            "}"
          ]
        }
      ]
    },
    {
      "cell_type": "markdown",
      "source": [
        "### $e_1$ (davidson test)"
      ],
      "metadata": {
        "id": "6ecw0EdtdNvM"
      }
    },
    {
      "cell_type": "code",
      "source": [
        "! python main.py test-irm /content/davidson_test.txt /content/models/main_exp/irm/run0 --out-dir models/main_exp/irm/run0/test_e1 --reg 7500"
      ],
      "metadata": {
        "colab": {
          "base_uri": "https://localhost:8080/"
        },
        "id": "rW-_tWvNcnxY",
        "outputId": "7392142f-5e49-4d2a-9202-419f2963f0f7"
      },
      "execution_count": null,
      "outputs": [
        {
          "output_type": "stream",
          "name": "stdout",
          "text": [
            "2023-12-26 00:27:02.835926: E external/local_xla/xla/stream_executor/cuda/cuda_dnn.cc:9261] Unable to register cuDNN factory: Attempting to register factory for plugin cuDNN when one has already been registered\n",
            "2023-12-26 00:27:02.835979: E external/local_xla/xla/stream_executor/cuda/cuda_fft.cc:607] Unable to register cuFFT factory: Attempting to register factory for plugin cuFFT when one has already been registered\n",
            "2023-12-26 00:27:02.837230: E external/local_xla/xla/stream_executor/cuda/cuda_blas.cc:1515] Unable to register cuBLAS factory: Attempting to register factory for plugin cuBLAS when one has already been registered\n",
            "2023-12-26 00:27:04.066807: W tensorflow/compiler/tf2tensorrt/utils/py_utils.cc:38] TF-TRT Warning: Could not find TensorRT\n",
            "*** Starting test_irm with config:\n",
            "Namespace(test_file='/content/davidson_test.txt', test_dir='/content/models/main_exp/irm/run0', out_dir='models/main_exp/irm/run0/test_e1', seed=None, bs_test=32, reg=7500.0)\n",
            "Random seed is used\n",
            "Dropped 0 samples\n",
            "\n",
            "Macro F1 score: 0.862738887129131\n",
            "              precision    recall  f1-score   support\n",
            "\n",
            "           0       0.83      0.97      0.89       113\n",
            "           1       0.96      0.74      0.83        87\n",
            "\n",
            "    accuracy                           0.87       200\n",
            "   macro avg       0.89      0.85      0.86       200\n",
            "weighted avg       0.88      0.87      0.87       200\n",
            "\n",
            "*** Output file models/main_exp/irm/run0/test_e1/run_output.json written\n"
          ]
        }
      ]
    },
    {
      "cell_type": "code",
      "source": [
        "! cat models/main_exp/irm/run0/test_e1/run_output.json"
      ],
      "metadata": {
        "colab": {
          "base_uri": "https://localhost:8080/"
        },
        "id": "sCXOyZy8fuiy",
        "outputId": "1df5a93d-ee8d-45ad-88bb-571f5009bd6b"
      },
      "execution_count": null,
      "outputs": [
        {
          "output_type": "stream",
          "name": "stdout",
          "text": [
            "{\n",
            "  \"config\": {\n",
            "    \"test_file\": \"/content/davidson_test.txt\",\n",
            "    \"test_dir\": \"/content/models/main_exp/irm/run0\",\n",
            "    \"out_dir\": \"models/main_exp/irm/run0/test_e1\",\n",
            "    \"seed\": 411649438,\n",
            "    \"reg\": 7500.0,\n",
            "    \"bs_test\": 32\n",
            "  },\n",
            "  \"results\": {\n",
            "    \"loss\": 0.01027881633490324,\n",
            "    \"accuracy\": 85.71428571428571,\n",
            "    \"predicted probabilities\": null\n",
            "  }\n",
            "}"
          ]
        }
      ]
    },
    {
      "cell_type": "markdown",
      "source": [
        "### $e_2$ (ETHOS test)"
      ],
      "metadata": {
        "id": "xuFs_4HledsT"
      }
    },
    {
      "cell_type": "code",
      "source": [
        "! python main.py test-irm /content/ethos_test.txt /content/models/main_exp/irm/run0 --out-dir models/main_exp/irm/run0/test_e2 --reg 7500"
      ],
      "metadata": {
        "colab": {
          "base_uri": "https://localhost:8080/"
        },
        "id": "fL4gh45lenxm",
        "outputId": "70d1fac0-fc2e-43dc-e7f9-bbb5b8d5dc9e"
      },
      "execution_count": null,
      "outputs": [
        {
          "output_type": "stream",
          "name": "stdout",
          "text": [
            "2023-12-26 00:27:14.144819: E external/local_xla/xla/stream_executor/cuda/cuda_dnn.cc:9261] Unable to register cuDNN factory: Attempting to register factory for plugin cuDNN when one has already been registered\n",
            "2023-12-26 00:27:14.144880: E external/local_xla/xla/stream_executor/cuda/cuda_fft.cc:607] Unable to register cuFFT factory: Attempting to register factory for plugin cuFFT when one has already been registered\n",
            "2023-12-26 00:27:14.146140: E external/local_xla/xla/stream_executor/cuda/cuda_blas.cc:1515] Unable to register cuBLAS factory: Attempting to register factory for plugin cuBLAS when one has already been registered\n",
            "2023-12-26 00:27:15.157032: W tensorflow/compiler/tf2tensorrt/utils/py_utils.cc:38] TF-TRT Warning: Could not find TensorRT\n",
            "*** Starting test_irm with config:\n",
            "Namespace(test_file='/content/ethos_test.txt', test_dir='/content/models/main_exp/irm/run0', out_dir='models/main_exp/irm/run0/test_e2', seed=None, bs_test=32, reg=7500.0)\n",
            "Random seed is used\n",
            "Dropped 0 samples\n",
            "\n",
            "Macro F1 score: 0.7397518878101403\n",
            "              precision    recall  f1-score   support\n",
            "\n",
            "           0       0.80      0.72      0.76       109\n",
            "           1       0.68      0.77      0.72        84\n",
            "\n",
            "    accuracy                           0.74       193\n",
            "   macro avg       0.74      0.74      0.74       193\n",
            "weighted avg       0.75      0.74      0.74       193\n",
            "\n",
            "*** Output file models/main_exp/irm/run0/test_e2/run_output.json written\n"
          ]
        }
      ]
    },
    {
      "cell_type": "code",
      "source": [
        "! cat models/main_exp/irm/run0/test_e2/run_output.json"
      ],
      "metadata": {
        "colab": {
          "base_uri": "https://localhost:8080/"
        },
        "id": "i3Ipr2YbfxzK",
        "outputId": "9e6bffce-f934-43e1-db0b-94532f6bc527"
      },
      "execution_count": null,
      "outputs": [
        {
          "output_type": "stream",
          "name": "stdout",
          "text": [
            "{\n",
            "  \"config\": {\n",
            "    \"test_file\": \"/content/ethos_test.txt\",\n",
            "    \"test_dir\": \"/content/models/main_exp/irm/run0\",\n",
            "    \"out_dir\": \"models/main_exp/irm/run0/test_e2\",\n",
            "    \"seed\": 362654060,\n",
            "    \"reg\": 7500.0,\n",
            "    \"bs_test\": 32\n",
            "  },\n",
            "  \"results\": {\n",
            "    \"loss\": 0.0075549171306192875,\n",
            "    \"accuracy\": 77.67857142857143,\n",
            "    \"predicted probabilities\": null\n",
            "  }\n",
            "}"
          ]
        }
      ]
    },
    {
      "cell_type": "markdown",
      "source": [
        "### $e_1+e_2$"
      ],
      "metadata": {
        "id": "ggh8mRP0gKlp"
      }
    },
    {
      "cell_type": "code",
      "source": [
        "! python main.py test-irm /content/test_e1_e2.txt /content/models/main_exp/irm/run0 --out-dir models/main_exp/irm/run0/test_e1_e2 --reg 7500"
      ],
      "metadata": {
        "colab": {
          "base_uri": "https://localhost:8080/"
        },
        "id": "LD2u2OHeggR1",
        "outputId": "3c9740bd-493e-46fd-8981-56fd25941f35"
      },
      "execution_count": null,
      "outputs": [
        {
          "output_type": "stream",
          "name": "stdout",
          "text": [
            "2023-12-26 00:27:25.392748: E external/local_xla/xla/stream_executor/cuda/cuda_dnn.cc:9261] Unable to register cuDNN factory: Attempting to register factory for plugin cuDNN when one has already been registered\n",
            "2023-12-26 00:27:25.392800: E external/local_xla/xla/stream_executor/cuda/cuda_fft.cc:607] Unable to register cuFFT factory: Attempting to register factory for plugin cuFFT when one has already been registered\n",
            "2023-12-26 00:27:25.394063: E external/local_xla/xla/stream_executor/cuda/cuda_blas.cc:1515] Unable to register cuBLAS factory: Attempting to register factory for plugin cuBLAS when one has already been registered\n",
            "2023-12-26 00:27:26.389710: W tensorflow/compiler/tf2tensorrt/utils/py_utils.cc:38] TF-TRT Warning: Could not find TensorRT\n",
            "*** Starting test_irm with config:\n",
            "Namespace(test_file='/content/test_e1_e2.txt', test_dir='/content/models/main_exp/irm/run0', out_dir='models/main_exp/irm/run0/test_e1_e2', seed=None, bs_test=32, reg=7500.0)\n",
            "Random seed is used\n",
            "Dropped 0 samples\n",
            "\n",
            "Macro F1 score: 0.8021567484500027\n",
            "              precision    recall  f1-score   support\n",
            "\n",
            "           0       0.82      0.85      0.83       222\n",
            "           1       0.79      0.75      0.77       171\n",
            "\n",
            "    accuracy                           0.81       393\n",
            "   macro avg       0.80      0.80      0.80       393\n",
            "weighted avg       0.81      0.81      0.81       393\n",
            "\n",
            "*** Output file models/main_exp/irm/run0/test_e1_e2/run_output.json written\n"
          ]
        }
      ]
    },
    {
      "cell_type": "code",
      "source": [
        "! cat models/main_exp/irm/run0/test_e1_e2/run_output.json"
      ],
      "metadata": {
        "colab": {
          "base_uri": "https://localhost:8080/"
        },
        "id": "o4FCWEzegunl",
        "outputId": "b4d0baaa-3a59-49a0-ea4e-d542b49c5e5f"
      },
      "execution_count": null,
      "outputs": [
        {
          "output_type": "stream",
          "name": "stdout",
          "text": [
            "{\n",
            "  \"config\": {\n",
            "    \"test_file\": \"/content/test_e1_e2.txt\",\n",
            "    \"test_dir\": \"/content/models/main_exp/irm/run0\",\n",
            "    \"out_dir\": \"models/main_exp/irm/run0/test_e1_e2\",\n",
            "    \"seed\": 562920662,\n",
            "    \"reg\": 7500.0,\n",
            "    \"bs_test\": 32\n",
            "  },\n",
            "  \"results\": {\n",
            "    \"loss\": 0.0069216107949614525,\n",
            "    \"accuracy\": 79.88782051282053,\n",
            "    \"predicted probabilities\": null\n",
            "  }\n",
            "}"
          ]
        }
      ]
    },
    {
      "cell_type": "markdown",
      "source": [
        "## ERM\n"
      ],
      "metadata": {
        "id": "DSmDvGhkzNRW"
      }
    },
    {
      "cell_type": "code",
      "source": [
        "! python main.py run-irm --out-dir models/main_exp/erm/run0 --bs-train 32 --bs-val 32 --eval-every-x-epoch 0.2 --warm-up-epochs 4 --epochs 0 --warm-up-reg 0.0 --reg 0.0 --lr 5e-5  --early-stopping 5 --seed 671362882 --gradient-checkpoint"
      ],
      "metadata": {
        "id": "pxadovN7bWDR"
      },
      "execution_count": null,
      "outputs": []
    },
    {
      "cell_type": "markdown",
      "source": [
        "### test ood"
      ],
      "metadata": {
        "id": "x3CfkuOZjN1Q"
      }
    },
    {
      "cell_type": "code",
      "source": [
        "! python main.py test-irm /content/test_ood.txt /content/models/main_exp/erm/run0 --out-dir models/main_exp/erm/run0/test_ood"
      ],
      "metadata": {
        "id": "GISQZEXK8gF3",
        "colab": {
          "base_uri": "https://localhost:8080/"
        },
        "outputId": "4c555199-fe4a-4a3a-d4b3-bffa6d853dc3"
      },
      "execution_count": null,
      "outputs": [
        {
          "output_type": "stream",
          "name": "stdout",
          "text": [
            "2023-12-26 00:53:53.699442: E external/local_xla/xla/stream_executor/cuda/cuda_dnn.cc:9261] Unable to register cuDNN factory: Attempting to register factory for plugin cuDNN when one has already been registered\n",
            "2023-12-26 00:53:53.699493: E external/local_xla/xla/stream_executor/cuda/cuda_fft.cc:607] Unable to register cuFFT factory: Attempting to register factory for plugin cuFFT when one has already been registered\n",
            "2023-12-26 00:53:53.700822: E external/local_xla/xla/stream_executor/cuda/cuda_blas.cc:1515] Unable to register cuBLAS factory: Attempting to register factory for plugin cuBLAS when one has already been registered\n",
            "2023-12-26 00:53:54.710708: W tensorflow/compiler/tf2tensorrt/utils/py_utils.cc:38] TF-TRT Warning: Could not find TensorRT\n",
            "*** Starting test_irm with config:\n",
            "Namespace(test_file='/content/test_ood.txt', test_dir='/content/models/main_exp/erm/run0', out_dir='models/main_exp/erm/run0/test_ood', seed=None, bs_test=32, reg=1000.0)\n",
            "Random seed is used\n",
            "Dropped 0 samples\n",
            "\n",
            "Macro F1 score: 0.621031746031746\n",
            "              precision    recall  f1-score   support\n",
            "\n",
            "           0       0.66      0.86      0.75       111\n",
            "           1       0.67      0.39      0.49        80\n",
            "\n",
            "    accuracy                           0.66       191\n",
            "   macro avg       0.67      0.63      0.62       191\n",
            "weighted avg       0.67      0.66      0.64       191\n",
            "\n",
            "*** Output file models/main_exp/erm/run0/test_ood/run_output.json written\n"
          ]
        }
      ]
    },
    {
      "cell_type": "code",
      "source": [
        "! cat models/main_exp/erm/run0/test_ood/run_output.json"
      ],
      "metadata": {
        "colab": {
          "base_uri": "https://localhost:8080/"
        },
        "id": "S7imPNH3i6HE",
        "outputId": "bea6b407-9dad-4e31-ae24-c0a5c756afb4"
      },
      "execution_count": null,
      "outputs": [
        {
          "output_type": "stream",
          "name": "stdout",
          "text": [
            "{\n",
            "  \"config\": {\n",
            "    \"test_file\": \"/content/test_ood.txt\",\n",
            "    \"test_dir\": \"/content/models/main_exp/erm/run0\",\n",
            "    \"out_dir\": \"models/main_exp/erm/run0/test_ood\",\n",
            "    \"seed\": 1950943877,\n",
            "    \"reg\": 1000.0,\n",
            "    \"bs_test\": 32\n",
            "  },\n",
            "  \"results\": {\n",
            "    \"loss\": 0.1612628847360611,\n",
            "    \"accuracy\": 66.63306451612904,\n",
            "    \"predicted probabilities\": null\n",
            "  }\n",
            "}"
          ]
        }
      ]
    },
    {
      "cell_type": "markdown",
      "source": [
        "### $e_1$ (davidson test)"
      ],
      "metadata": {
        "id": "j11vNPqCjhqO"
      }
    },
    {
      "cell_type": "code",
      "source": [
        "! python main.py test-irm /content/davidson_test.txt /content/models/main_exp/erm/run0 --out-dir models/main_exp/erm/run0/davidson_test"
      ],
      "metadata": {
        "colab": {
          "base_uri": "https://localhost:8080/"
        },
        "id": "g_9khHBYjlpG",
        "outputId": "c713f9e5-69bc-44fe-a28c-36eb1de92f5b"
      },
      "execution_count": null,
      "outputs": [
        {
          "output_type": "stream",
          "name": "stdout",
          "text": [
            "2023-12-26 00:30:15.802655: E external/local_xla/xla/stream_executor/cuda/cuda_dnn.cc:9261] Unable to register cuDNN factory: Attempting to register factory for plugin cuDNN when one has already been registered\n",
            "2023-12-26 00:30:15.802708: E external/local_xla/xla/stream_executor/cuda/cuda_fft.cc:607] Unable to register cuFFT factory: Attempting to register factory for plugin cuFFT when one has already been registered\n",
            "2023-12-26 00:30:15.803983: E external/local_xla/xla/stream_executor/cuda/cuda_blas.cc:1515] Unable to register cuBLAS factory: Attempting to register factory for plugin cuBLAS when one has already been registered\n",
            "2023-12-26 00:30:16.809202: W tensorflow/compiler/tf2tensorrt/utils/py_utils.cc:38] TF-TRT Warning: Could not find TensorRT\n",
            "*** Starting test_irm with config:\n",
            "Namespace(test_file='/content/davidson_test.txt', test_dir='/content/models/main_exp/erm/run0', out_dir='models/main_exp/erm/run0/davidson_test', seed=None, bs_test=32, reg=1000.0)\n",
            "Random seed is used\n",
            "Dropped 0 samples\n",
            "\n",
            "Macro F1 score: 0.9181585677749361\n",
            "              precision    recall  f1-score   support\n",
            "\n",
            "           0       0.91      0.95      0.93       113\n",
            "           1       0.93      0.89      0.91        87\n",
            "\n",
            "    accuracy                           0.92       200\n",
            "   macro avg       0.92      0.92      0.92       200\n",
            "weighted avg       0.92      0.92      0.92       200\n",
            "\n",
            "*** Output file models/main_exp/erm/run0/davidson_test/run_output.json written\n"
          ]
        }
      ]
    },
    {
      "cell_type": "code",
      "source": [
        "! cat models/main_exp/erm/run0/davidson_test/run_output.json"
      ],
      "metadata": {
        "colab": {
          "base_uri": "https://localhost:8080/"
        },
        "id": "s_DZRSr4j1KY",
        "outputId": "c5eecb15-64fa-4856-bd06-f556c2f6b37b"
      },
      "execution_count": null,
      "outputs": [
        {
          "output_type": "stream",
          "name": "stdout",
          "text": [
            "{\n",
            "  \"config\": {\n",
            "    \"test_file\": \"/content/davidson_test.txt\",\n",
            "    \"test_dir\": \"/content/models/main_exp/erm/run0\",\n",
            "    \"out_dir\": \"models/main_exp/erm/run0/davidson_test\",\n",
            "    \"seed\": 775313058,\n",
            "    \"reg\": 1000.0,\n",
            "    \"bs_test\": 32\n",
            "  },\n",
            "  \"results\": {\n",
            "    \"loss\": 0.0058575840666890144,\n",
            "    \"accuracy\": 91.51785714285714,\n",
            "    \"predicted probabilities\": null\n",
            "  }\n",
            "}"
          ]
        }
      ]
    },
    {
      "cell_type": "markdown",
      "source": [
        "### $e_2$ (ETHOS test)"
      ],
      "metadata": {
        "id": "tOYNPQLlj4ja"
      }
    },
    {
      "cell_type": "code",
      "source": [
        "! python main.py test-irm /content/ethos_test.txt /content/models/main_exp/erm/run0 --out-dir models/main_exp/erm/run0/ethos_test"
      ],
      "metadata": {
        "colab": {
          "base_uri": "https://localhost:8080/"
        },
        "id": "s32OvjuPj8GI",
        "outputId": "d8bb248a-c9b2-44cc-a8c4-2d5a2f03dc08"
      },
      "execution_count": null,
      "outputs": [
        {
          "output_type": "stream",
          "name": "stdout",
          "text": [
            "2023-12-26 00:30:27.069876: E external/local_xla/xla/stream_executor/cuda/cuda_dnn.cc:9261] Unable to register cuDNN factory: Attempting to register factory for plugin cuDNN when one has already been registered\n",
            "2023-12-26 00:30:27.069927: E external/local_xla/xla/stream_executor/cuda/cuda_fft.cc:607] Unable to register cuFFT factory: Attempting to register factory for plugin cuFFT when one has already been registered\n",
            "2023-12-26 00:30:27.071215: E external/local_xla/xla/stream_executor/cuda/cuda_blas.cc:1515] Unable to register cuBLAS factory: Attempting to register factory for plugin cuBLAS when one has already been registered\n",
            "2023-12-26 00:30:28.081486: W tensorflow/compiler/tf2tensorrt/utils/py_utils.cc:38] TF-TRT Warning: Could not find TensorRT\n",
            "*** Starting test_irm with config:\n",
            "Namespace(test_file='/content/ethos_test.txt', test_dir='/content/models/main_exp/erm/run0', out_dir='models/main_exp/erm/run0/ethos_test', seed=None, bs_test=32, reg=1000.0)\n",
            "Random seed is used\n",
            "Dropped 0 samples\n",
            "\n",
            "Macro F1 score: 0.7929241519711684\n",
            "              precision    recall  f1-score   support\n",
            "\n",
            "           0       0.81      0.84      0.83       109\n",
            "           1       0.78      0.74      0.76        84\n",
            "\n",
            "    accuracy                           0.80       193\n",
            "   macro avg       0.80      0.79      0.79       193\n",
            "weighted avg       0.80      0.80      0.80       193\n",
            "\n",
            "*** Output file models/main_exp/erm/run0/ethos_test/run_output.json written\n"
          ]
        }
      ]
    },
    {
      "cell_type": "code",
      "source": [
        "! cat models/main_exp/erm/run0/ethos_test/run_output.json"
      ],
      "metadata": {
        "colab": {
          "base_uri": "https://localhost:8080/"
        },
        "id": "91nzjBmNkVwS",
        "outputId": "382ae6d5-9d0e-45da-8522-3c8628ed299a"
      },
      "execution_count": null,
      "outputs": [
        {
          "output_type": "stream",
          "name": "stdout",
          "text": [
            "{\n",
            "  \"config\": {\n",
            "    \"test_file\": \"/content/ethos_test.txt\",\n",
            "    \"test_dir\": \"/content/models/main_exp/erm/run0\",\n",
            "    \"out_dir\": \"models/main_exp/erm/run0/ethos_test\",\n",
            "    \"seed\": 951895636,\n",
            "    \"reg\": 1000.0,\n",
            "    \"bs_test\": 32\n",
            "  },\n",
            "  \"results\": {\n",
            "    \"loss\": 0.002398379147052765,\n",
            "    \"accuracy\": 82.58928571428571,\n",
            "    \"predicted probabilities\": null\n",
            "  }\n",
            "}"
          ]
        }
      ]
    },
    {
      "cell_type": "markdown",
      "source": [
        "### $e_1 + e_2$"
      ],
      "metadata": {
        "id": "BI2agDAkkSag"
      }
    },
    {
      "cell_type": "code",
      "source": [
        "! python main.py test-irm /content/test_e1_e2.txt /content/models/main_exp/erm/run0 --out-dir models/main_exp/erm/run0/test_e1_e2"
      ],
      "metadata": {
        "colab": {
          "base_uri": "https://localhost:8080/"
        },
        "id": "Kv3xo-4xkfn4",
        "outputId": "3262510f-39d6-40cd-db1c-fbc0f3ec8398"
      },
      "execution_count": null,
      "outputs": [
        {
          "output_type": "stream",
          "name": "stdout",
          "text": [
            "2023-12-26 00:30:37.847347: E external/local_xla/xla/stream_executor/cuda/cuda_dnn.cc:9261] Unable to register cuDNN factory: Attempting to register factory for plugin cuDNN when one has already been registered\n",
            "2023-12-26 00:30:37.847401: E external/local_xla/xla/stream_executor/cuda/cuda_fft.cc:607] Unable to register cuFFT factory: Attempting to register factory for plugin cuFFT when one has already been registered\n",
            "2023-12-26 00:30:37.848731: E external/local_xla/xla/stream_executor/cuda/cuda_blas.cc:1515] Unable to register cuBLAS factory: Attempting to register factory for plugin cuBLAS when one has already been registered\n",
            "2023-12-26 00:30:38.861668: W tensorflow/compiler/tf2tensorrt/utils/py_utils.cc:38] TF-TRT Warning: Could not find TensorRT\n",
            "*** Starting test_irm with config:\n",
            "Namespace(test_file='/content/test_e1_e2.txt', test_dir='/content/models/main_exp/erm/run0', out_dir='models/main_exp/erm/run0/test_e1_e2', seed=None, bs_test=32, reg=1000.0)\n",
            "Random seed is used\n",
            "Dropped 0 samples\n",
            "\n",
            "Macro F1 score: 0.856711015651413\n",
            "              precision    recall  f1-score   support\n",
            "\n",
            "           0       0.86      0.90      0.88       222\n",
            "           1       0.86      0.81      0.83       171\n",
            "\n",
            "    accuracy                           0.86       393\n",
            "   macro avg       0.86      0.85      0.86       393\n",
            "weighted avg       0.86      0.86      0.86       393\n",
            "\n",
            "*** Output file models/main_exp/erm/run0/test_e1_e2/run_output.json written\n"
          ]
        }
      ]
    },
    {
      "cell_type": "code",
      "source": [
        "! cat models/main_exp/erm/run0/test_e1_e2/run_output.json"
      ],
      "metadata": {
        "colab": {
          "base_uri": "https://localhost:8080/"
        },
        "id": "TXazaK44k2fQ",
        "outputId": "a44ebe19-2dcc-42f5-d152-339fce890ae3"
      },
      "execution_count": null,
      "outputs": [
        {
          "output_type": "stream",
          "name": "stdout",
          "text": [
            "{\n",
            "  \"config\": {\n",
            "    \"test_file\": \"/content/test_e1_e2.txt\",\n",
            "    \"test_dir\": \"/content/models/main_exp/erm/run0\",\n",
            "    \"out_dir\": \"models/main_exp/erm/run0/test_e1_e2\",\n",
            "    \"seed\": 570937406,\n",
            "    \"reg\": 1000.0,\n",
            "    \"bs_test\": 32\n",
            "  },\n",
            "  \"results\": {\n",
            "    \"loss\": 0.0075917718932032585,\n",
            "    \"accuracy\": 84.93589743589745,\n",
            "    \"predicted probabilities\": null\n",
            "  }\n",
            "}"
          ]
        }
      ]
    }
  ]
}